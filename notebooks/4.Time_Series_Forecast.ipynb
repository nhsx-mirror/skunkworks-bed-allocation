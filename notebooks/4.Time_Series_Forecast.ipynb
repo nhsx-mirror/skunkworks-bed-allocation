{
 "cells": [
  {
   "cell_type": "markdown",
   "id": "f765cfe6",
   "metadata": {},
   "source": [
    "# Time Series walkthrough\n",
    "\n",
    "In order to inform the bed allocation process we developed a demand predictor to forecast the number of patients due to be admitted into the hospital. We adopted a Bayesian modelling approach using numpryo and jax. The fundamental idea behind this approach is that the model itself is considered to be a statistical object. In particular, the model parameters that define the model are interpreted as being drawn from a distribution defined using Bayes’ Theorem. The output to the model is then a full posterior distribution for the predicted number of admissions rather than a single number. This allows us to draw samples for the predicted number of admissions and generate confidence intervals over our estimates.\n",
    "\n",
    "The admissions forecast model consisted of four components which account for: \n",
    "- The long term trend: to account for variations such as the current rise in admissions after the downturn during COVID-19 lockdowns; \n",
    "- The day of the week: to account for variations connected with specific days in the week, e.g. admissions are typically lower on the weekends; \n",
    "- The hour of the day: to account for variations connected with the time of day, e.g. fewer patients are admitted at night than during the day; \n",
    "- Whether it is a bank holiday: to account for variations that are due to these specific dates, e.g. fewer patients are admitted on bank holidays.\n",
    "\n",
    "We captured the long term trend in the historic admissions data using a Gaussian Process (GP), inspired by previous work of Vehtari et al., as summarised in this [blog post](https://avehtari.github.io/casestudies/Birthdays/birthdays.html#Model_3:_Slow_trend_+_yearly_seasonal_trend_+_day_of_week). A GP does not constrain the model to take on any particular form. Instead, it returns a distribution over the functions which are consistent with the observed data, in this case, the historic admissions timeseries. In practice, exact GPs can be inefficient to calculate, we therefore utilised the Hilbert Space approximation based on [this numpyro tutorial](http://num.pyro.ai/en/latest/examples/hsgp.html) to ensure tractable runtimes.\n",
    "\n",
    "## 1. Import required modules\n",
    "\n",
    "_Note:_ you will need to first install the module as per the instructions in the main README, and run a notebook server from within the same virtual environment to have access to the `hospital` submodules."
   ]
  },
  {
   "cell_type": "code",
   "execution_count": null,
   "id": "5b8ada0b",
   "metadata": {},
   "outputs": [],
   "source": [
    "import os\n",
    "import pickle\n",
    "import pandas as pd\n",
    "\n",
    "from forecasting.forecast import PatientForecast\n",
    "from forecasting.utils import (\n",
    "    FORECAST_HOURS, # 24\n",
    "    HISTORIC_HOURS, # 168 \n",
    "    HOURS_IN_WEEK, # 168 \n",
    "    START_FORECAST, # 21/06/2021 00:00\n",
    ")"
   ]
  },
  {
   "cell_type": "markdown",
   "id": "bc34d22a",
   "metadata": {},
   "source": [
    "## 2. Initialise forecast class"
   ]
  },
  {
   "cell_type": "code",
   "execution_count": null,
   "id": "9a13730f",
   "metadata": {},
   "outputs": [],
   "source": [
    "# Initialise class\n",
    "forecast_model = PatientForecast()"
   ]
  },
  {
   "cell_type": "markdown",
   "id": "310a44f9",
   "metadata": {},
   "source": [
    "## 3. Train model\n",
    "\n",
    "We trained the model on previous admissions data, aggregated to show the total number of admissions (medical and surgical) every hour for the past 120 days. We chose this as our training period because it allows enough time for both the short and long term trends to show up within the data, whilst reducing the effect of the abnormalities in admission caused by COVID-19. Once the model has been trained, we can then use it to predict the number of patients that will be admitted each hour. Rather than a single number, the demand predictor produces a posterior distribution, meaning we can draw samples for the predicted number of patient admissions. We can also use the posterior to generate confidence intervals for our model. Here we use the 95% confidence interval, which means that 95 times out of 100 we expect the patient admission numbers to fall within the range provided."
   ]
  },
  {
   "cell_type": "code",
   "execution_count": null,
   "id": "a4e1aed9",
   "metadata": {},
   "outputs": [],
   "source": [
    "# Train model, with training period ending at START_FORECAST\n",
    "forecast_model.train_model(START_FORECAST, training_hours=2880)"
   ]
  },
  {
   "cell_type": "markdown",
   "id": "0d1e9475",
   "metadata": {},
   "source": [
    "## 4. Generate predictions"
   ]
  },
  {
   "cell_type": "code",
   "execution_count": null,
   "id": "213146b1",
   "metadata": {},
   "outputs": [],
   "source": [
    " # Get prediction for 1 week before START_FORECAST and 24hrs after a week after START_FORECAST\n",
    "results = forecast_model.call_forecast(\n",
    "    START_FORECAST,\n",
    "    historic_hours=HISTORIC_HOURS,\n",
    "    forecast_hours=HOURS_IN_WEEK + FORECAST_HOURS,\n",
    ")"
   ]
  },
  {
   "cell_type": "markdown",
   "id": "246dd593",
   "metadata": {},
   "source": [
    "## 5. Save results"
   ]
  },
  {
   "cell_type": "code",
   "execution_count": null,
   "id": "e064601f",
   "metadata": {},
   "outputs": [],
   "source": [
    "pickle.dump(results, open(\"../data/forecast_results.pkl\", \"wb\"))"
   ]
  }
 ],
 "metadata": {
  "kernelspec": {
   "display_name": "Python 3 (ipykernel)",
   "language": "python",
   "name": "python3"
  },
  "language_info": {
   "codemirror_mode": {
    "name": "ipython",
    "version": 3
   },
   "file_extension": ".py",
   "mimetype": "text/x-python",
   "name": "python",
   "nbconvert_exporter": "python",
   "pygments_lexer": "ipython3",
   "version": "3.9.0"
  }
 },
 "nbformat": 4,
 "nbformat_minor": 5
}
