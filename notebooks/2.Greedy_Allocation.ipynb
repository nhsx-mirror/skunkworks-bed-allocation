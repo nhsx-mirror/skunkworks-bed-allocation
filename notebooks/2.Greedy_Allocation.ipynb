{
 "cells": [
  {
   "cell_type": "markdown",
   "metadata": {},
   "source": [
    "# Allocation Agent: Greedy\n",
    "\n",
    "Greedy optimisation finds the best allocation currently available given the state of the hospital and attributes of the patient. Consider the following example:\n",
    "<ul>\n",
    "<li>A female adult medical patient has arrived at the hospital and there are only two available beds. The first is within a bed bay of the male medical ward, the second is within a bed bay of a female surgical ward.\n",
    "<li>According to user research the penalty for assigning a patient to ward with incorrect sex is 10 whilst the penalty for assigning a medical patient to a surgical ward is 3. \n",
    "<li>The greedy algorithm would choose the second bed, finding the solution that incurs the lowest penalty.\n",
    "</ul>\n",
    "\n",
    "In a more complicated scenario, where multiple penalties of varying cost may apply, it will optimise for the lowest aggregated penalty, which is a balance between the number of constraints broken and the magnitude of their costs i.e., breaking 1 constraint at a cost of 10 is worse than breaking 2 with a total cost of 7. \n",
    "\n",
    "This approach is called ‘greedy’ as it performs a brute force search across all available options. This may be slow if the size of your search space (e.g. number of possible choices) is very large.\n",
    "\n",
    "In this notebook we demonstrate how to run the greedy allocation agent on the hospital that was created in notebook 1.\n",
    "\n",
    "## 1 Import required modules\n",
    "\n",
    "_Note:_ you will need to first install the module as per the instructions in the main README, and run a notebook server from within the same virtual environment to have access to the `hospital` submodules."
   ]
  },
  {
   "cell_type": "code",
   "execution_count": null,
   "metadata": {},
   "outputs": [],
   "source": [
    "import copy\n",
    "import time\n",
    "import cloudpickle\n",
    "import pandas as pd\n",
    "\n",
    "from agent import policy\n",
    "from hospital.people import Patient"
   ]
  },
  {
   "cell_type": "markdown",
   "metadata": {},
   "source": [
    "## 2 Load the Hospital Environment\n",
    "\n",
    "We load the saved hospital environment, generated from the previous notebook, and initialise it with a random set of patients at an occupancy of 90%. After populating the hospital you can see that there are patients attached to 90% of the beds, and also use the hospital functions to get a list of empty bed, understand the current penalty associated with the hospital (N.B. this will be very high as we randomly initialised the hospital)."
   ]
  },
  {
   "cell_type": "code",
   "execution_count": null,
   "metadata": {},
   "outputs": [],
   "source": [
    "with open(\"../data/hospital.pkl\", \"rb\") as f:\n",
    "        h = cloudpickle.load(f)"
   ]
  },
  {
   "cell_type": "code",
   "execution_count": null,
   "metadata": {},
   "outputs": [],
   "source": [
    "policy.populate_hospital(h, occupancy=0.9)\n",
    "h.render()"
   ]
  },
  {
   "cell_type": "code",
   "execution_count": null,
   "metadata": {},
   "outputs": [],
   "source": [
    "# function returns a generator so wrap in list to see all empty beds\n",
    "len(list(h.get_empty_beds()))"
   ]
  },
  {
   "cell_type": "code",
   "execution_count": null,
   "metadata": {},
   "outputs": [],
   "source": [
    "start_penalty = h.eval_restrictions()[\"score\"]\n",
    "print(f\"Start penalty of the hospital: {start_penalty}\")"
   ]
  },
  {
   "cell_type": "markdown",
   "metadata": {},
   "source": [
    "## 3 Create a patient and Allocate\n",
    "\n",
    "We can create a patient to allocate as seen in notebook 1 and use the `greedy_suggestions` function to return the top N bed suggestions for this patient, given the current state of the hospital. The suggestions are returned as a distionary with the bed names as keys and a dictionary of penalties and violated restrictions as values. Below we unpack this into a pandas DataFrame for easy comparison. \n",
    "\n",
    "The greedy allocation agent is plugged into the UI, please refer to the UI to see how this type of tool may be utilised by end users. "
   ]
  },
  {
   "cell_type": "code",
   "execution_count": null,
   "metadata": {},
   "outputs": [],
   "source": [
    "patient = Patient(\n",
    "    name=\"patient\",\n",
    "    sex=\"female\",\n",
    "    department=\"medicine\",\n",
    "    specialty=\"general\",\n",
    "    is_immunosupressed=True,\n",
    ")"
   ]
  },
  {
   "cell_type": "code",
   "execution_count": null,
   "metadata": {},
   "outputs": [],
   "source": [
    "numer_of_suggestions = 5\n",
    "start_time = time.time()\n",
    "suggestions = policy.greedy_suggestions(h, patient, numer_of_suggestions)\n",
    "elapsed = time.time() - start_time"
   ]
  },
  {
   "cell_type": "code",
   "execution_count": null,
   "metadata": {},
   "outputs": [],
   "source": [
    "print(f\"Time take to compute top {numer_of_suggestions} greedy suggestions: {round(elapsed,2)}s\")\n",
    "\n",
    "df = pd.DataFrame(suggestions).T\n",
    "df"
   ]
  }
 ],
 "metadata": {
  "interpreter": {
   "hash": "01ec99a3234bd476179303a660f74b3d2c02399838a0919631250c986ec0f9a9"
  },
  "kernelspec": {
   "display_name": "Python 3.9.0 64-bit ('kgh': pyenv)",
   "name": "python3"
  },
  "language_info": {
   "codemirror_mode": {
    "name": "ipython",
    "version": 3
   },
   "file_extension": ".py",
   "mimetype": "text/x-python",
   "name": "python",
   "nbconvert_exporter": "python",
   "pygments_lexer": "ipython3",
   "version": "3.9.0"
  }
 },
 "nbformat": 4,
 "nbformat_minor": 2
}
