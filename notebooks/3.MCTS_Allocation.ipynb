{
 "cells": [
  {
   "cell_type": "markdown",
   "metadata": {},
   "source": [
    "# Allocation Agent: Monte Carlo Tree Search (MCTS)\n",
    "\n",
    "A full review of MCTS is available in [Browne et al., 2012](http://ccg.doc.gold.ac.uk/ccg_old/papers/browne_tciaig12_1.pdf), and has been the basis of the below work.\n",
    "\n",
    "Broadly speaking MCTS randomly explores a decision space, building a tree of connected moves and their associated rewards. Over multiple iterations the MCTS determines which decisions are most likely to result in a positive outcome. Ultimately the best decision is the one that provides the best long term reward, the definition of which depends on the specific domain. For example, when creating a MCTS agent to play a board game, the long term reward would be a 0 or 1 depending on whether you won or lost the game after making the current move. \n",
    "\n",
    "In the context of bed allocation we do not have a natural end state. Therefore the long term reward is determined as the total reward incurred after N time has passed according to the equation below. Here $R_{n}$ represents a reward associated with  the state of the hospital at a given time step, $\\gamma \\epsilon [0, 1]$ is the discount factor. The reward associated with a hospital state is $1 - total penalties$ incurred. The first term in the equation, $R_{1}$, is the immediate reward associated with the current allocation i.e., the greedy allocation score, and the subsequent terms are rewards associated with future states, where the discount factor weighs the relative importance of these future states against the current state. \n",
    "$$\n",
    "\\begin{align}\n",
    "R = R_{1} + \\gamma R_{2} +\\gamma^{2}R_{3} ... +\\gamma^{N}R_{N}\n",
    "\\end{align}\n",
    "$$\n",
    "\n",
    "In this notebook we demonstrate how to run the MCTS allocation algorithm in a simplified virtual hospital; see `src/agent/mcts` and `src/agent/simulation` for the relevant code. More details of the implementation are provided at the end of this notebook.\n",
    "\n",
    "## 1. Import required modules\n",
    "\n",
    "_Note:_ you will need to first install the module as per the instructions in the main README, and run a notebook server from within the same virtual environment to have access to the `hospital` submodules."
   ]
  },
  {
   "cell_type": "code",
   "execution_count": null,
   "metadata": {},
   "outputs": [],
   "source": [
    "import cloudpickle\n",
    "import copy\n",
    "import time\n",
    "import random\n",
    "\n",
    "import warnings\n",
    "warnings.filterwarnings('ignore')\n",
    "\n",
    "from tqdm.notebook import tqdm\n",
    "\n",
    "import agent.utils as utils\n",
    "import agent.policy as policy\n",
    "import agent.run_mcts as mcts\n",
    "from hospital.people import Patient\n",
    "from hospital.building import Hospital, MedicalWard, SurgicalWard, Room\n",
    "from hospital.equipment.bed import Bed\n",
    "import hospital.restrictions.ward as R"
   ]
  },
  {
   "cell_type": "markdown",
   "metadata": {},
   "source": [
    "## 2. Hospital Environment\n",
    "\n",
    "The MCTS implementation can take a long time to run, and have high memory requirements. To demonstrate how it can be run we create a simplified scenario with a toy hospital containing 2 wards (1 medical, 1 surgical), and 5 beds each. The Medical ward will have a restriction for not allowing surgical patients and vice versa. "
   ]
  },
  {
   "cell_type": "code",
   "execution_count": null,
   "metadata": {},
   "outputs": [],
   "source": [
    "beds = [Bed(name=f\"B00{i}\") for i in range(10)]\n",
    "wards = [\n",
    "    MedicalWard(name=\"MedicalWard\", rooms=[Room(name=\"R000\", beds=beds[:5])]),\n",
    "    SurgicalWard(name=\"SurgicalWard\", rooms=[Room(name=\"R001\", beds=beds[5:])]),\n",
    "]\n",
    "h = Hospital(name=\"Hospital\", wards=wards)\n",
    "\n",
    "# Add ward restrictions\n",
    "h.wards[0].restrictions = [R.NoSurgical(10)]\n",
    "h.wards[1].restrictions = [R.NoMedical(5)]\n",
    "\n",
    "h.render()"
   ]
  },
  {
   "cell_type": "code",
   "execution_count": null,
   "metadata": {},
   "outputs": [],
   "source": [
    "# you will also need to normalise the penalties to lie between 0 and 1\n",
    "utils.normalise_ward_penalties(h)"
   ]
  },
  {
   "cell_type": "markdown",
   "metadata": {},
   "source": [
    "## 3. Create patients to admit to the hospital"
   ]
  },
  {
   "cell_type": "markdown",
   "metadata": {},
   "source": [
    "To generate realistic patients utilise the PatientSampler class which takes a day of week and an hour of the day and returns a forecast for the number of patients estimated to arrive each hour, `N`. By default, the patients are synthesied with random data where the distribution for each attributes is informed by aggregated historic data. If historic patient data is available then a pool of historic patients can be saved and setting `historic=True` will return more accurate marginal distributions accross all patient attributes. Otherwise, the returned number of patients `N` is a random number, and the returned patient attributes are randomly generated. See `src/forecasting/patient_sampler`. \n",
    "\n",
    "```\n",
    "sampler = PatientSampler(\"monday\", 9)\n",
    "forecast_window=2\n",
    "forecasted_patients = sampler.sample_patients(forecast_window=forecast_window, num_samples=1)\n",
    "\n",
    "# we can unpack the above structure into a list of lists\n",
    "# each sublist represents an hour of patients\n",
    "arrivals = []\n",
    "for _, patients in forecasted_patients[0].items():\n",
    "     arrivals.append(patients)\n",
    "```\n",
    "\n",
    "We will instead use the code below to create a simplified list of arriving patients, by initialising patients with the default value for most fields, such that there won't be any additional patient level restrictions (e.g., patient needs side room for immunosuppression). The arrivals list will still have the same structure as above. "
   ]
  },
  {
   "cell_type": "code",
   "execution_count": null,
   "metadata": {},
   "outputs": [],
   "source": [
    "def generate_random_name() -> str:\n",
    "    \"\"\"\n",
    "    2 random letters + 2 random numbers. As a string.\n",
    "    \"\"\"\n",
    "    letters = \"abcdefghijklmnopqrstuvwxyz\"\n",
    "    digits = \"0123456789\"\n",
    "    characters = random.choices(letters, k=2) + random.choices(digits, k=2)\n",
    "    name = \"\".join(characters)\n",
    "    return name\n",
    "\n",
    "def generate_simple_patient() -> Patient:\n",
    "    \"\"\"Returns a random patient, without any patient level restrictions.\"\"\"\n",
    "    \n",
    "    # department and specialty\n",
    "    department = [\"medicine\", \"surgery\"][utils.bernoulli(0.5)]\n",
    "\n",
    "    # Patient, all other attributes are default=False\n",
    "    patient = Patient(\n",
    "        name=generate_random_name(),\n",
    "        sex=[\"male\", \"female\"][utils.bernoulli(0.5)],\n",
    "        department=department\n",
    "    )\n",
    "    \n",
    "    return patient\n",
    "\n",
    "def generate_arrivals(max_per_hour: int, forecast_window: int) -> list:\n",
    "    \"\"\"Creates a list of arriving patients for each hour of in the forecast window\"\"\"\n",
    "    arrivals =[]\n",
    "    for hours in range(forecast_window):\n",
    "        arrivals.append([generate_simple_patient() for _ in range(random.randint(0, max_per_hour))])\n",
    "                        \n",
    "    return arrivals\n",
    "    "
   ]
  },
  {
   "cell_type": "code",
   "execution_count": null,
   "metadata": {},
   "outputs": [],
   "source": [
    "# patient currently being allocated\n",
    "patient = Patient(\n",
    "    name=\"patient_0\",\n",
    "    sex=\"female\",\n",
    "    department=\"medicine\",\n",
    ")\n",
    "\n",
    "# 'forecasted' arrivals\n",
    "arrivals = generate_arrivals(3, 4)\n",
    "\n",
    "print(f\"Incoming patients per hour: {[len(l) for l in arrivals]}\")\n",
    "\n",
    "# now we insert the patient we are currently trying to \n",
    "# allocate as the first patient, as time t=1.\n",
    "arrivals = [[patient]] + arrivals"
   ]
  },
  {
   "cell_type": "markdown",
   "metadata": {},
   "source": [
    "Now we can run the MCTS as below. The output in `mcts_output` is a list of dictionaries where each dictionary represents a possible allocation for patient_0, and the results of the tree search for that option, further details of the tree search are provided below. The items of each dictionary are:\n",
    "- `action`, the allocation of the current patient into a bed. It is possible to consider allocating multiple patients in a timestep, as such, the action is represented by a dictionary of bed_name:patient pairs, for each patient at t=0 in the tree search. In our example there is just one patient.\n",
    "- `score`, the immediate pentaly associated with allocating the current patient(s) to the suggested bed(s).\n",
    "- `violated_restrictions`, the set of restrictions (if any), violated by assigning the patient(s) to the suggested bed(s).\n",
    "- `ucb_score`, the tree policy score associated with the suggested allocation. See below for more details on UCB score. \n",
    "- `visit_count`, the number of times the node representing the suggested allocation was visited during tree search. \n",
    "\n",
    "There are several potential strategies for determining what the best allocation option is. The one with the lowest `score` is equivalent to making a greedy optimisation that selects the best bed given the current circumstances of the hospital; whereas, making a choice between the highest `ucb_score`, or `visit_count` or a weighted average of both provides the best allocation according to the MCTS. "
   ]
  },
  {
   "cell_type": "code",
   "execution_count": null,
   "metadata": {
    "scrolled": true
   },
   "outputs": [],
   "source": [
    "h_copy = copy.deepcopy(h)\n",
    "t = time.time()\n",
    "mcts_node = mcts.run_mcts(\n",
    "        h_copy,\n",
    "        arrivals,\n",
    "        discount_factor=0.9,\n",
    "        n_iterations=100,\n",
    ")\n",
    "elapsed = time.time() - t\n",
    "mcts_output = mcts.construct_mcts_output(h_copy, mcts_node, patient)"
   ]
  },
  {
   "cell_type": "code",
   "execution_count": null,
   "metadata": {},
   "outputs": [],
   "source": [
    "print(f\"Time taken to compute suggestions: {round(elapsed,2)}s\")\n",
    "mcts_output"
   ]
  },
  {
   "cell_type": "markdown",
   "metadata": {},
   "source": [
    "# 4. Details on implementation"
   ]
  },
  {
   "cell_type": "markdown",
   "metadata": {},
   "source": [
    "Below we describe the four stages of the MCTS algorithm as they are specifically implemented for the bed allocation agent. The implementation utilises the `anytree` library to build a tree structure, where each node represents a specific state of the hospital and each level of the tree represents a time step. Time steps are incremented in hours and connected to the number of forecasted admissions arriving each hour. The input to the treesearch is a queue of patients arriving at each time step, with the current patient to be allocated (`t=0`) as the first entry in this queue, and the current state of the hospital as the root node to search from.\n",
    "\n",
    "<ol>\n",
    "<li><b>Selection</b></li>\n",
    "\n",
    "Starting at the root node a child node is selected. The root node represents the current state of the hospital at time $t=0$ where the state is defined by the patients that are currently occupying beds and the set of empty beds. \n",
    "\n",
    "In the first iteration of the tree search, the algorithm selects the root node and moves to the expansion step. In subsequent iterations it will traverse from the root and choose one of the child nodes according to the tree policy. The <i>tree policy</i> is the UCB score, in which $\\overline{R}$ is the mean reward from visiting that node, $N_{pi}$ is the number of times its parent node was visited and $N_{i}$ is the number of times the node itself has been visited. The first term encourages the algorithm to select nodes that have previously resulted in good outcomes, while the second encourages the algorithm to explore options that it hasn’t visited as often.\n",
    "$$\n",
    "\\begin{align}\n",
    "UCB = \\overline{R} + \\sqrt{\\frac{2 \\log{N_{p}}}{N_{i}}}\n",
    "\\end{align}\n",
    "$$\n",
    "<li><b>Expansion</b></li>\n",
    "Once a node is selected, a child node is attached to represent each possible decision state for that time step.\n",
    "\n",
    "For example, we have a hospital with 4 beds, 2 are occupied and 2 are available. We are currently trying to allocate a patient P1. As there are two possible decisions, two nodes can be attached that represent 1) allocating P1 to the first available bed and 2) allocation P1 to the second available bed.\n",
    "\n",
    "As we progress through the tree search, we may encounter time steps where multiple patients have arrived. In such cases, a node is expanded for each possible combination of patients to available beds.\n",
    "<li><b>Simulation</b></li>\n",
    "From one of the attached children we then simulate a future. The simulation stage involves the following steps:\n",
    "<ul>\n",
    "<li>Each patient currently within the hospital has a length of stay attribute, and an expected length of stay attribute. At the start of the simulation step, the length of stay counters are incremented by one.</li>\n",
    "<li>Then a discharge model is applied to discharge existing patients. The probability of being discharged increases according to proximity to your expected length of stay.</li>\n",
    "<li>The patients arriving in the given time-step are then assigned to beds according to the default policy. The default policy is a random assignment of patients to beds to available beds.</li>\n",
    "</ul>\n",
    "<li><b>Backpropagation</b></li>\n",
    "The total penalty of the hospital is calculated after the simulation step. This is the sum of all penalties for each broken restriction within the hospital. We then backpropagate this score up the tree to distribute the outcome across all decisions along the currently explored path. \n",
    "\n",
    "This stage updates the UCB score (tree policy score) and visit count for each node that was traversed along the current decision pathway. If the result of the simulation was good, the UCB scores of each node will have increased, making it more likely that future iterations of the tree search will select these nodes again. The reverse is also true. In this manner MCTS is more tractable than a completely random search of the possible decision pathways as it more frequently visits the most promising options during the selection stage.\n",
    "</ol>\n",
    "The above procedure is repeated multiple times until a maximum number of iterations have been reached. At this point the tree object is returned and the best child node of the root is selected as the optimal allocation for the current patient. There are several potential strategies for determining what the best node is. In the current implementation we choose the node that has the highest visit count. Alternative approaches such as choosing the node with the highest UCB score or some balance of the two, and how this affects outcomes, remain to be explored in future work.\n",
    "\n",
    "### Limitations\n",
    "In the above implementation we take a single sample from the demand forecast and use this as a fixed version of the future. This means that the future within the treesearch is deterministic and significantly reduces the search space, and branching of the tree, allowing the algorithm to find a recommendation in a more tractable timeframe. However, a single sample from the forecast represents one of the possible futures. To truly capture the variability of incoming patients, we envisage a strategy where multiple simultaneous tree searches are implemented, each using a separate sample from the forecasted admissions. These could be run in parallel to increase runtime efficiency, and the final suggested allocation would be the bed that has the average highest ranking across the ensemble of tree searches. The efficacy of this strategy and alternative approaches to dealing with non deterministic search spaces remain to be explored. \n",
    "\n",
    "Despite fixing the set of arrivals within a tree-search we can still experience an intractable amount of branching that makes the current implementation of MCTS unsuitable for operational use. For example, if there are just 4 empty beds in the hospital, and 9 arriving patients within a time step, the tree expands into 840 possible permutations of patients to beds. With multiple time steps into the future this can compound and result in either memory issues or extremely long compute times. Further work is needed to explore engineering strategies that can make MCTS more operationally feasible."
   ]
  }
 ],
 "metadata": {
  "interpreter": {
   "hash": "01ec99a3234bd476179303a660f74b3d2c02399838a0919631250c986ec0f9a9"
  },
  "kernelspec": {
   "display_name": "Python 3",
   "language": "python",
   "name": "python3"
  },
  "language_info": {
   "codemirror_mode": {
    "name": "ipython",
    "version": 3
   },
   "file_extension": ".py",
   "mimetype": "text/x-python",
   "name": "python",
   "nbconvert_exporter": "python",
   "pygments_lexer": "ipython3",
   "version": "3.8.2"
  }
 },
 "nbformat": 4,
 "nbformat_minor": 2
}
