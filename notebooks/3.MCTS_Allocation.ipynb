{
 "cells": [
  {
   "cell_type": "markdown",
   "metadata": {},
   "source": [
    "# Allocation Agent: Monte Carlo Tree Search (MCTS)\n",
    "\n",
    "A full review of MCTS is available in [Browne et al., 2012](http://ccg.doc.gold.ac.uk/ccg_old/papers/browne_tciaig12_1.pdf), and has been the basis of the below work.\n",
    "\n",
    "Broadly speaking MCTS randomly explores a decision space, building a tree of connected moves and their associated rewards. Over multiple iterations the MCTS determines which decisions are most likely to result in a positive outcome. Ultimately the best decision is the one that provides the best long term reward, the definition of which depends on the specific domain. For example, when creating a MCTS agent to play a board game, the long term reward would be a 0 or 1 depending on whether you won or lost the game after making the current move. \n",
    "\n",
    "In the context of bed allocation we do not have a natural end state. Therefore the long term reward is determined as the total reward incurred after N time has passed according to the equation below. Here $R_{n}$ represents a reward associated with  the state of the hospital at a given time step, $\\gamma \\epsilon [0, 1]$ is the discount factor. The reward associated with a hospital state is $1 - total penalties$ incurred. The first term in the equation, $R_{1}$, is the immediate reward associated with the current allocation i.e., the greedy allocation score, and the subsequent terms are rewards associated with future states, where the discount factor weighs the relative importance of these future states against the current state. \n",
    "$$\n",
    "\\begin{align}\n",
    "R = R_{1} + \\gamma R_{2} +\\gamma^{2}R_{3} ... +\\gamma^{N}R_{N}\n",
    "\\end{align}\n",
    "$$\n",
    "\n",
    "In this notebook we demonstrate how to run the MCTS allocation algorithm in the virtual hospital; see `src/agent/mcts` and `src/agent/simulation` for the relevant code. More details of the implementation are provided at the end of this notebook.\n",
    "\n",
    "## 1. Import required modules\n",
    "\n",
    "_Note:_ you will need to first install the module as per the instructions in the main README, and run a notebook server from within the same virtual environment to have access to the `hospital` submodules."
   ]
  },
  {
   "cell_type": "code",
   "execution_count": null,
   "metadata": {},
   "outputs": [],
   "source": [
    "import cloudpickle\n",
    "import copy\n",
    "import time\n",
    "\n",
    "import warnings\n",
    "warnings.filterwarnings('ignore')\n",
    "\n",
    "import agent.utils as utils\n",
    "import agent.policy as policy\n",
    "import agent.run_mcts as mcts\n",
    "from hospital.people import Patient\n",
    "from forecasting.patient_sampler import PatientSampler"
   ]
  },
  {
   "cell_type": "markdown",
   "metadata": {},
   "source": [
    "## 2. Load the Hospital Environment\n",
    "\n",
    "We load the saved hospital environment and initialise it with a random set of patients at an occupancy of 90% and normalise the restriction penalties to lie between 0-1."
   ]
  },
  {
   "cell_type": "code",
   "execution_count": null,
   "metadata": {},
   "outputs": [],
   "source": [
    "with open(\"../data/hospital.pkl\", \"rb\") as f:\n",
    "        h = cloudpickle.load(f)\n",
    "        \n",
    "policy.populate_hospital(h, occupancy=0.90)\n",
    "h.render()"
   ]
  },
  {
   "cell_type": "code",
   "execution_count": null,
   "metadata": {},
   "outputs": [],
   "source": [
    "len(list(h.get_empty_beds()))"
   ]
  },
  {
   "cell_type": "code",
   "execution_count": null,
   "metadata": {},
   "outputs": [],
   "source": [
    "# you will also need to normalise the penalties to lie between 0 and 1\n",
    "utils.normalise_ward_penalties(h)"
   ]
  },
  {
   "cell_type": "markdown",
   "metadata": {},
   "source": [
    "## 3. Create patients to admit to the hospital"
   ]
  },
  {
   "cell_type": "markdown",
   "metadata": {},
   "source": [
    "We first create the Patient we currently want to allocate like we did in the first notebook. Then we use the patient sampler to generate the arrivals forecast used to simulate the future within the MCTS. \n",
    "\n",
    "We use the PatientSampler class to provide a list of incoming patients as below. The sampler takes a day of week and an hour of the day and returns a forecast for the number of patients estimated to arrive each hour, `N`. By default, the patients are synthesied with random data where the distribution for each attributes is informed by aggregated historic data. If historic patient data is available then a pool of historic patients can be saved and setting `historic=True` will return more accurate marginal distributions accross all patient attributes. The function call and outputs are otherwise the same, but at the moment the returned number of patients `N` is a random number, and the returned patients are randomly generated. See `src/forecasting/patient_sampler`. "
   ]
  },
  {
   "cell_type": "code",
   "execution_count": null,
   "metadata": {},
   "outputs": [],
   "source": [
    "patient = Patient(\n",
    "    name=\"patient\",\n",
    "    sex=\"female\",\n",
    "    department=\"medicine\",\n",
    "    specialty=\"general\",\n",
    "    is_known_covid=True,\n",
    ")"
   ]
  },
  {
   "cell_type": "code",
   "execution_count": null,
   "metadata": {},
   "outputs": [],
   "source": [
    "sampler = PatientSampler(\"monday\", 9)\n",
    "forcast_window=2\n",
    "forecasted_patients = sampler.sample_patients(forecast_window=forcast_window, num_samples=1)\n",
    "\n",
    "# we can unpack the above structure into a list of lists\n",
    "# each sublist represents an hour of patients\n",
    "arrivals = []\n",
    "for _, patients in forecasted_patients[0].items():\n",
    "    arrivals.append(patients)\n",
    "    \n",
    "print(f\"Incoming patients per hour: {[len(l) for l in arrivals]}\")"
   ]
  },
  {
   "cell_type": "markdown",
   "metadata": {},
   "source": [
    "now we insert the patient we are currently trying to allocate as the first patient, as time t=1."
   ]
  },
  {
   "cell_type": "code",
   "execution_count": null,
   "metadata": {},
   "outputs": [],
   "source": [
    "arrivals = [[patient]] + arrivals\n",
    "arrivals"
   ]
  },
  {
   "cell_type": "markdown",
   "metadata": {},
   "source": [
    "**WARNING: This following code may take a long time or cause memory issues if a lot of patients (>4) are arriving in a single time step or the forecast window is large (>2)**"
   ]
  },
  {
   "cell_type": "code",
   "execution_count": null,
   "metadata": {},
   "outputs": [],
   "source": [
    "h_copy = copy.deepcopy(h)\n",
    "t = time.time()\n",
    "mcts_node = mcts.run_mcts(\n",
    "        h_copy,\n",
    "        arrivals,\n",
    "        discount_factor=0.9,\n",
    "        n_iterations=10,\n",
    ")\n",
    "elapsed = time.time() - t\n",
    "mcts_output = mcts.construct_mcts_output(h_copy, mcts_node, patient)"
   ]
  },
  {
   "cell_type": "code",
   "execution_count": null,
   "metadata": {},
   "outputs": [],
   "source": [
    "print(f\"Time taken to compute suggestions: {round(elapsed,2)}s\")\n",
    "mcts_output"
   ]
  },
  {
   "cell_type": "markdown",
   "metadata": {},
   "source": [
    "# 4. Details on implementation"
   ]
  },
  {
   "cell_type": "markdown",
   "metadata": {},
   "source": [
    "Below we describe the four stages of the MCTS algorithm as they are specifically implemented for the bed allocation agent. The implementation utilises the `anytree` library to build a tree structure, where each node represents a specific state of the hospital and each level of the tree represents a time step. Time steps are incremented in hours and connected to the number of forecasted admissions arriving each hour. The input to the treesearch is a queue of patients arriving at each time step, with the current patient to be allocated (`t=0`) as the first entry in this queue, and the current state of the hospital as the root node to search from.\n",
    "\n",
    "<ol>\n",
    "<li><b>Selection</b></li>\n",
    "\n",
    "Starting at the root node a child node is selected. The root node represents the current state of the hospital at time $t=0$ where the state is defined by the patients that are currently occupying beds and the set of empty beds. \n",
    "\n",
    "In the first iteration of the tree search, the algorithm selects the root node and moves to the expansion step. In subsequent iterations it will traverse from the root and choose one of the child nodes according to the tree policy. The <i>tree policy</i> is the UCB score, in which $\\overline{R}$ is the mean reward from visiting that node, $N_{pi}$ is the number of times its parent node was visited and $N_{i}$ is the number of times the node itself has been visited. The first term encourages the algorithm to select nodes that have previously resulted in good outcomes, while the second encourages the algorithm to explore options that it hasn’t visited as often.\n",
    "$$\n",
    "\\begin{align}\n",
    "UCB = \\overline{R} + \\sqrt{\\frac{2 \\log{N_{p}}}{N_{i}}}\n",
    "\\end{align}\n",
    "$$\n",
    "<li><b>Expansion</b></li>\n",
    "Once a node is selected, a child node is attached to represent each possible decision state for that time step.\n",
    "\n",
    "For example, we have a hospital with 4 beds, 2 are occupied and 2 are available. We are currently trying to allocate a patient P1. As there are two possible decisions, two nodes can be attached that represent 1) allocating P1 to the first available bed and 2) allocation P1 to the second available bed.\n",
    "\n",
    "As we progress through the tree search, we may encounter time steps where multiple patients have arrived. In such cases, a node is expanded for each possible combination of patients to available beds.\n",
    "<li><b>Simulation</b></li>\n",
    "From one of the attached children we then simulate a future. The simulation stage involves the following steps:\n",
    "<ul>\n",
    "<li>Each patient currently within the hospital has a length of stay attribute, and an expected length of stay attribute. At the start of the simulation step, the length of stay counters are incremented by one.</li>\n",
    "<li>Then a discharge model is applied to discharge existing patients. The probability of being discharged increases according to proximity to your expected length of stay.</li>\n",
    "<li>The patients arriving in the given time-step are then assigned to beds according to the default policy. The default policy is a random assignment of patients to beds to available beds.</li>\n",
    "</ul>\n",
    "<li><b>Backpropagation</b></li>\n",
    "The total penalty of the hospital is calculated after the simulation step. This is the sum of all penalties for each broken restriction within the hospital. We then backpropagate this score up the tree to distribute the outcome across all decisions along the currently explored path. \n",
    "\n",
    "This stage updates the UCB score (tree policy score) and visit count for each node that was traversed along the current decision pathway. If the result of the simulation was good, the UCB scores of each node will have increased, making it more likely that future iterations of the tree search will select these nodes again. The reverse is also true. In this manner MCTS is more tractable than a completely random search of the possible decision pathways as it more frequently visits the most promising options during the selection stage.\n",
    "</ol>\n",
    "The above procedure is repeated multiple times until a maximum number of iterations have been reached. At this point the tree object is returned and the best child node of the root is selected as the optimal allocation for the current patient. There are several potential strategies for determining what the best node is. In the current implementation we choose the node that has the highest visit count. Alternative approaches such as choosing the node with the highest UCB score or some balance of the two, and how this affects outcomes, remain to be explored in future work.\n",
    "\n",
    "### Limitations\n",
    "In the above implementation we take a single sample from the demand forecast and use this as a fixed version of the future. This means that the future within the treesearch is deterministic and significantly reduces the search space, and branching of the tree, allowing the algorithm to find a recommendation in a more tractable timeframe. However, a single sample from the forecast represents one of the possible futures. To truly capture the variability of incoming patients, we envisage a strategy where multiple simultaneous tree searches are implemented, each using a separate sample from the forecasted admissions. These could be run in parallel to increase runtime efficiency, and the final suggested allocation would be the bed that has the average highest ranking across the ensemble of tree searches. The efficacy of this strategy and alternative approaches to dealing with non deterministic search spaces remain to be explored. \n",
    "\n",
    "Despite fixing the set of arrivals within a tree-search we can still experience an intractable amount of branching that makes the current implementation of MCTS unsuitable for operational use. For example, if there are just 4 empty beds in the hospital, and 9 arriving patients within a time step, the tree expands into 840 possible permutations of patients to beds. With multiple time steps into the future this can compound and result in either memory issues or extremely long compute times. Further work is needed to explore engineering strategies that can make MCTS more operationally feasible."
   ]
  }
 ],
 "metadata": {
  "interpreter": {
   "hash": "01ec99a3234bd476179303a660f74b3d2c02399838a0919631250c986ec0f9a9"
  },
  "kernelspec": {
   "display_name": "Python 3.9.0 64-bit ('kgh': pyenv)",
   "name": "python3"
  },
  "language_info": {
   "codemirror_mode": {
    "name": "ipython",
    "version": 3
   },
   "file_extension": ".py",
   "mimetype": "text/x-python",
   "name": "python",
   "nbconvert_exporter": "python",
   "pygments_lexer": "ipython3",
   "version": "3.9.0"
  }
 },
 "nbformat": 4,
 "nbformat_minor": 2
}
