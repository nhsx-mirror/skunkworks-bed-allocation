{
 "cells": [
  {
   "cell_type": "markdown",
   "id": "f765cfe6",
   "metadata": {},
   "source": [
    "# Virtual Hospital walkthrough\n",
    "\n",
    "The virtual hospital environment comprises several components that can be tailored to mimic any arbitrary hospital structure, allowing the user to test the allocation agents at different scales. It is based on a tree-like structure using the [anytree library](https://pypi.org/project/anytree/) to define the hierarchical structure of a hospital. \n",
    "\n",
    "The user can build virtual hospitals containing the desired number of wards, rooms and beds. In addition, the virtual hospital encodes the allocation restrictions and associated penalties that apply to the hospital, as well as the data structure for patients. We have encoded different types of ward (medical, surgical) and rooms (bed bays, side rooms) to cater for a broad range of allocation rules. In addition, certain restrictions apply specifically to a patient and are thus contained within the patient class (e.g. if a patient requires a sideroom).\n",
    "\n",
    "This notebook demonstrates how to create a hospital object. The hospital will consist of 4 medical wards and 2 surgical wards as detailed below. Within each ward we will add a number of rooms (bed bays and side rooms) as well as ward and room restrictions. We will then save this hospital object to reuse in subsequent notebooks and the UI.In the second half of the notebook we demonstrate how to admit and discharge patients from the hospital, and calculate the associated penalties. \n",
    "\n",
    "## Import required modules\n",
    "\n",
    "_Note:_ you will need to first install the module as per the instructions in the main README, and run a notebook server from within the same virtual environment to have access to the `hospital` submodules."
   ]
  },
  {
   "cell_type": "code",
   "execution_count": null,
   "id": "5b8ada0b",
   "metadata": {},
   "outputs": [],
   "source": [
    "import cloudpickle\n",
    "\n",
    "from hospital.equipment.bed import Bed\n",
    "from hospital.building.room import BedBay, SideRoom\n",
    "from hospital.building.ward import SurgicalWard, MedicalWard\n",
    "from hospital.building.building import Hospital\n",
    "from hospital.restrictions import ward as W\n",
    "from hospital.restrictions import room as R\n",
    "from hospital.people import Patient"
   ]
  },
  {
   "cell_type": "markdown",
   "id": "bc34d22a",
   "metadata": {},
   "source": [
    "# 1. Create Virtual Hospital"
   ]
  },
  {
   "cell_type": "markdown",
   "id": "5bf5c136",
   "metadata": {},
   "source": [
    "Initialise the hospital object with a name. We can then set up a list of ward definitions, where wards can either be medical or surgial. In addition a list of specialties can be added, as well as ward sex if applicable. Finally, we apply some ward level restrictions. A full set of available ward restrictions are within the `hospital.restrictions.ward` submodule. "
   ]
  },
  {
   "cell_type": "code",
   "execution_count": null,
   "id": "9a13730f",
   "metadata": {},
   "outputs": [],
   "source": [
    "# initialise hospital object\n",
    "hospital = Hospital(\"H1\")"
   ]
  },
  {
   "cell_type": "code",
   "execution_count": null,
   "id": "213146b1",
   "metadata": {},
   "outputs": [],
   "source": [
    "# Setup Wards and restrictions\n",
    "wards = [\n",
    "    MedicalWard(\n",
    "        name=\"Ward A\",\n",
    "        specialty=[\"general\"],\n",
    "        restrictions=[\n",
    "            W.NoKnownCovid(10),\n",
    "            W.NoSuspectedCovid(10),\n",
    "            W.NoSurgical(3),\n",
    "            W.IncorrectSpecialty(2)\n",
    "        ],\n",
    "        hospital=hospital,\n",
    "    ),\n",
    "    MedicalWard(\n",
    "        name=\"Ward B\",\n",
    "        sex=\"female\",\n",
    "        specialty=[\"endocrinology\"],\n",
    "        restrictions=[\n",
    "            W.NoKnownCovid(10),\n",
    "            W.NoSuspectedCovid(10),\n",
    "            W.NoSurgical(3),\n",
    "            W.IncorrectSpecialty(2),\n",
    "            W.IncorrectSex(10),\n",
    "        ],\n",
    "        hospital=hospital,\n",
    "    ),\n",
    "    MedicalWard(\n",
    "        name=\"Ward C\",\n",
    "        sex=\"male\",\n",
    "        specialty=[\"endocrinology\"],\n",
    "        restrictions=[\n",
    "            W.NoKnownCovid(10),\n",
    "            W.NoSuspectedCovid(10),\n",
    "            W.NoSurgical(3),\n",
    "            W.IncorrectSpecialty(2),\n",
    "            W.IncorrectSex(10),\n",
    "        ],\n",
    "        hospital=hospital,\n",
    "    ),\n",
    "    MedicalWard(\n",
    "        name=\"Ward D\",\n",
    "        specialty=[\"Respiratory\"],\n",
    "        restrictions=[\n",
    "            W.NoNonCovid(10),\n",
    "            W.NoSurgical(3),\n",
    "            W.IncorrectSpecialty(2),\n",
    "        ],\n",
    "        hospital=hospital,\n",
    "    ),\n",
    "    SurgicalWard(\n",
    "        name=\"Ward E\",\n",
    "        department=\"surgery\",\n",
    "        specialty=[\"general\"],\n",
    "        restrictions=[\n",
    "            W.NoKnownCovid(10),\n",
    "            W.NoSuspectedCovid(10),\n",
    "            W.NoMedical(1),\n",
    "            W.IncorrectSpecialty(2),\n",
    "            W.NoAcuteSurgical(8),\n",
    "        ],\n",
    "        hospital=hospital,\n",
    "    ),\n",
    "    SurgicalWard(\n",
    "        name=\"Ward F\",\n",
    "        department=\"surgery\",\n",
    "        specialty=[\"trauma_and_orthopaedic\"],\n",
    "        restrictions=[\n",
    "            W.NoKnownCovid(10),\n",
    "            W.NoSuspectedCovid(10),\n",
    "            W.NoMedical(1),\n",
    "            W.IncorrectSpecialty(2),\n",
    "            W.NoAcuteSurgical(8),\n",
    "        ],\n",
    "        hospital=hospital,\n",
    "    ),\n",
    "]\n",
    "\n",
    "# check wards in hospital\n",
    "hospital.wards"
   ]
  },
  {
   "cell_type": "markdown",
   "id": "0d7d6f8e",
   "metadata": {},
   "source": [
    "### Add rooms and beds"
   ]
  },
  {
   "cell_type": "markdown",
   "id": "2898ffb8",
   "metadata": {},
   "source": [
    "We can then attach rooms and beds to wards. Below we create a generator to yield ward names, a dictionary to define the number of beds and siderooms we wish to add to each ward and a helper function that generates the bed bays and siderooms. In this function each side room has a single bed and the remaining beds are split into bed bays with roughly 6 beds each but the user can define whatever configuration they desire. We also apply a NoMixedSex room restriction to all the bed bays, additional room level restrictions are available in the `hospital.restrictions.room` sub module."
   ]
  },
  {
   "cell_type": "code",
   "execution_count": null,
   "id": "a4ca6879",
   "metadata": {},
   "outputs": [],
   "source": [
    "# Create an iterator of IDs to avoid duplicating names\n",
    "ROOM_IDS = iter(f\"R{str(n).zfill(2)}\" for n in range(100))\n",
    "BED_IDS = iter((f\"B{str(n).zfill(3)}\" for n in range(1000)))\n",
    "\n",
    "# define the number of beds and siderooms for each ward\n",
    "WARD_TO_ROOMS = {\n",
    "    \"Ward A\":{\"beds\":31, \"siderooms\":2},\n",
    "    \"Ward B\":{\"beds\":27, \"siderooms\":6},\n",
    "    \"Ward C\":{\"beds\":27, \"siderooms\":6},\n",
    "    \"Ward D\":{\"beds\":18, \"siderooms\":2},\n",
    "    \"Ward E\":{\"beds\":24, \"siderooms\":0},\n",
    "    \"Ward F\":{\"beds\":27, \"siderooms\":3},\n",
    "}\n",
    "\n",
    "def generate_rooms(ward, ward_to_room_map, room_ids, bed_ids):\n",
    "    \"\"\"\n",
    "    Generate side rooms and bed bays  and beds for a ward.\n",
    "    \"\"\"\n",
    "    rooms = []\n",
    "    # add siderooms\n",
    "    for sideroom in range(ward_to_room_map[ward.name][\"siderooms\"]):\n",
    "        rooms.append(\n",
    "            SideRoom(\n",
    "                name=next(room_ids),\n",
    "                beds=[Bed(name=next(bed_ids))],\n",
    "                ward=ward,\n",
    "            )\n",
    "        )\n",
    "        \n",
    "    # add bed bays\n",
    "    total_beds = (\n",
    "        ward_to_room_map[ward.name][\"beds\"] \n",
    "        - ward_to_room_map[ward.name][\"siderooms\"]\n",
    "    )\n",
    "    num_bays = total_beds // 6\n",
    "    bed_bay_numbers = [\n",
    "        total_beds // num_bays + (1 if x < total_beds % num_bays else 0)\n",
    "        for x in range(num_bays)\n",
    "    ]\n",
    "    for num_beds in bed_bay_numbers:\n",
    "        rooms.append(\n",
    "            BedBay(\n",
    "                name=next(room_ids),\n",
    "                beds=[Bed(name=next(bed_ids)) for i in range(num_beds)],\n",
    "                # NoMixedSex restriction applies to all bed bays\n",
    "                restrictions=[R.NoMixedSex(8)],\n",
    "                ward=ward,\n",
    "            )\n",
    "        )\n",
    "    return rooms"
   ]
  },
  {
   "cell_type": "code",
   "execution_count": null,
   "id": "160898ad",
   "metadata": {},
   "outputs": [],
   "source": [
    "for ward in wards:\n",
    "    ward_rooms = {}\n",
    "    ward_rooms[ward.name] = generate_rooms(ward, WARD_TO_ROOMS, ROOM_IDS, BED_IDS)\n",
    "    \n",
    "print(f\"Rooms: {len(hospital.rooms)},Beds: {len(hospital.beds)}\")"
   ]
  },
  {
   "cell_type": "markdown",
   "id": "c9fd3349",
   "metadata": {},
   "source": [
    "### Save the hospital\n",
    "we save the hospital using cloudpickle to use in later notebooks and the UI"
   ]
  },
  {
   "cell_type": "code",
   "execution_count": null,
   "id": "2e47ca6c",
   "metadata": {},
   "outputs": [],
   "source": [
    "with open(\"../data/hospital.pkl\", \"wb\") as f:\n",
    "    cloudpickle.dump(hospital, f)"
   ]
  },
  {
   "cell_type": "markdown",
   "id": "63376c39",
   "metadata": {},
   "source": [
    "# 2. Admitting Patients and calculating penalties"
   ]
  },
  {
   "cell_type": "markdown",
   "id": "b08a0d0e",
   "metadata": {},
   "source": [
    "Patients can be created using the patient data class `hospital.people.Patient`. They have several attributes that are relevant to the hospital restrictions. Some of these attributes may trigger a patient level restriction to be attached to the patient, e.g., Patient needs a side room. \n",
    "\n",
    "Below we create a female, medical patient that is immunosuppressed and needs a side room. We then demonstrate how to admit this patient to different beds and calculate the penalty. "
   ]
  },
  {
   "cell_type": "code",
   "execution_count": null,
   "id": "66d75370",
   "metadata": {},
   "outputs": [],
   "source": [
    "# there are many additional attributes that are false by default, such as covid status.\n",
    "patient = Patient(\n",
    "    name=\"patient\",\n",
    "    sex=\"female\",\n",
    "    department=\"medicine\",\n",
    "    specialty=\"general\",\n",
    "    is_immunosupressed=True,\n",
    ")\n",
    "\n",
    "# you can see that the patient has a sideroom restrictions because of their immunosuppression \n",
    "patient"
   ]
  },
  {
   "cell_type": "code",
   "execution_count": null,
   "id": "c1df7622",
   "metadata": {},
   "outputs": [],
   "source": [
    "# lets view the hospital to pick a room\n",
    "hospital.render()"
   ]
  },
  {
   "cell_type": "code",
   "execution_count": null,
   "id": "23ebec24",
   "metadata": {},
   "outputs": [],
   "source": [
    "# lets admit the patient to a bed bay in ward A\n",
    "hospital.admit(patient, \"B002\")\n",
    "print(hospital.patients)"
   ]
  },
  {
   "cell_type": "code",
   "execution_count": null,
   "id": "f4b4a3b3",
   "metadata": {},
   "outputs": [],
   "source": [
    "# now lets check the penalty for the hospital\n",
    "result = hospital.eval_restrictions()\n",
    "total_penalty = result[\"score\"]\n",
    "broken_restrictions = result[\"names\"]\n",
    "print(f\"Total penalty: {total_penalty}\")\n",
    "print(f\"Broken restrictions: {broken_restrictions}\")"
   ]
  },
  {
   "cell_type": "markdown",
   "id": "c6dcd01b",
   "metadata": {},
   "source": [
    "This allocation results in a penalty of 10 because the NeedsSideRoom restriction is violated. We can discharge this patient from this specific bed and try a new bed. This time we admit them to a side room, and can see that that restriction is no longer broken."
   ]
  },
  {
   "cell_type": "code",
   "execution_count": null,
   "id": "ccec2ec5",
   "metadata": {},
   "outputs": [],
   "source": [
    "hospital.discharge(patient) # alternatively try hospital.clear() to discharge all patients\n",
    "hospital.admit(patient, \"B000\")\n",
    "\n",
    "new_result = hospital.eval_restrictions()\n",
    "new_total_penalty = new_result[\"score\"]\n",
    "new_broken_restrictions = new_result[\"names\"]\n",
    "print(f\"Total penalty: {new_total_penalty}\")\n",
    "print(f\"Broken restrictions: {new_broken_restrictions}\")"
   ]
  }
 ],
 "metadata": {
  "kernelspec": {
   "display_name": "Python 3 (ipykernel)",
   "language": "python",
   "name": "python3"
  },
  "language_info": {
   "codemirror_mode": {
    "name": "ipython",
    "version": 3
   },
   "file_extension": ".py",
   "mimetype": "text/x-python",
   "name": "python",
   "nbconvert_exporter": "python",
   "pygments_lexer": "ipython3",
   "version": "3.8.5"
  }
 },
 "nbformat": 4,
 "nbformat_minor": 5
}
